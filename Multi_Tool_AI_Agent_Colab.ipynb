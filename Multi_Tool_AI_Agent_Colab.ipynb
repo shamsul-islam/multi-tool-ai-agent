{
  "cells": [
    {
      "cell_type": "markdown",
      "metadata": {
        "id": "view-in-github",
        "colab_type": "text"
      },
      "source": [
        "<a href=\"https://colab.research.google.com/github/shamsul-islam/multi-tool-ai-agent/blob/main/Multi_Tool_AI_Agent_Colab.ipynb\" target=\"_parent\"><img src=\"https://colab.research.google.com/assets/colab-badge.svg\" alt=\"Open In Colab\"/></a>"
      ]
    },
    {
      "cell_type": "code",
      "execution_count": null,
      "metadata": {
        "colab": {
          "base_uri": "https://localhost:8080/"
        },
        "id": "zkYzu0GP_m__",
        "outputId": "ac3f98c5-7298-4b42-8a16-7e0b703edead",
        "collapsed": true
      },
      "outputs": [
        {
          "name": "stdout",
          "output_type": "stream",
          "text": [
            "Collecting tavily-python\n",
            "  Downloading tavily_python-0.7.12-py3-none-any.whl.metadata (7.5 kB)\n",
            "Requirement already satisfied: requests in /usr/local/lib/python3.12/dist-packages (from tavily-python) (2.32.4)\n",
            "Requirement already satisfied: tiktoken>=0.5.1 in /usr/local/lib/python3.12/dist-packages (from tavily-python) (0.11.0)\n",
            "Requirement already satisfied: httpx in /usr/local/lib/python3.12/dist-packages (from tavily-python) (0.28.1)\n",
            "Requirement already satisfied: regex>=2022.1.18 in /usr/local/lib/python3.12/dist-packages (from tiktoken>=0.5.1->tavily-python) (2024.11.6)\n",
            "Requirement already satisfied: charset_normalizer<4,>=2 in /usr/local/lib/python3.12/dist-packages (from requests->tavily-python) (3.4.3)\n",
            "Requirement already satisfied: idna<4,>=2.5 in /usr/local/lib/python3.12/dist-packages (from requests->tavily-python) (3.10)\n",
            "Requirement already satisfied: urllib3<3,>=1.21.1 in /usr/local/lib/python3.12/dist-packages (from requests->tavily-python) (2.5.0)\n",
            "Requirement already satisfied: certifi>=2017.4.17 in /usr/local/lib/python3.12/dist-packages (from requests->tavily-python) (2025.8.3)\n",
            "Requirement already satisfied: anyio in /usr/local/lib/python3.12/dist-packages (from httpx->tavily-python) (4.10.0)\n",
            "Requirement already satisfied: httpcore==1.* in /usr/local/lib/python3.12/dist-packages (from httpx->tavily-python) (1.0.9)\n",
            "Requirement already satisfied: h11>=0.16 in /usr/local/lib/python3.12/dist-packages (from httpcore==1.*->httpx->tavily-python) (0.16.0)\n",
            "Requirement already satisfied: sniffio>=1.1 in /usr/local/lib/python3.12/dist-packages (from anyio->httpx->tavily-python) (1.3.1)\n",
            "Requirement already satisfied: typing_extensions>=4.5 in /usr/local/lib/python3.12/dist-packages (from anyio->httpx->tavily-python) (4.15.0)\n",
            "Downloading tavily_python-0.7.12-py3-none-any.whl (15 kB)\n",
            "Installing collected packages: tavily-python\n",
            "Successfully installed tavily-python-0.7.12\n"
          ]
        }
      ],
      "source": [
        "!pip install tavily-python"
      ]
    },
    {
      "cell_type": "code",
      "execution_count": null,
      "metadata": {
        "id": "1pRkOrI-dpMF"
      },
      "outputs": [],
      "source": [
        "from google.colab import drive\n"
      ]
    },
    {
      "cell_type": "code",
      "execution_count": null,
      "metadata": {
        "colab": {
          "base_uri": "https://localhost:8080/"
        },
        "id": "jsCg5lcv-M9P",
        "outputId": "821305a4-4b84-43ce-ff3b-f7bfa0530c88"
      },
      "outputs": [
        {
          "name": "stdout",
          "output_type": "stream",
          "text": [
            "Drive already mounted at /content/drive; to attempt to forcibly remount, call drive.mount(\"/content/drive\", force_remount=True).\n"
          ]
        }
      ],
      "source": [
        "drive.mount('/content/drive')"
      ]
    },
    {
      "cell_type": "code",
      "execution_count": null,
      "metadata": {
        "colab": {
          "base_uri": "https://localhost:8080/"
        },
        "id": "RLDaOmUrfA9d",
        "outputId": "f780bf6c-ffd9-4f29-9151-e6e54cc268ac"
      },
      "outputs": [
        {
          "name": "stdout",
          "output_type": "stream",
          "text": [
            "/content/drive/MyDrive/Colab Notebooks/multi-tool-ai-agent\n"
          ]
        }
      ],
      "source": [
        " %cd /content/drive/MyDrive/Colab Notebooks/multi-tool-ai-agent"
      ]
    },
    {
      "cell_type": "code",
      "execution_count": null,
      "metadata": {
        "colab": {
          "base_uri": "https://localhost:8080/"
        },
        "collapsed": true,
        "id": "H2arul0hgcT7",
        "outputId": "1aa13043-d1c7-484a-c62c-e0deca810b81"
      },
      "outputs": [
        {
          "name": "stdout",
          "output_type": "stream",
          "text": [
            "Collecting tavily-python\n",
            "  Downloading tavily_python-0.7.12-py3-none-any.whl.metadata (7.5 kB)\n",
            "Requirement already satisfied: requests in /usr/local/lib/python3.12/dist-packages (from tavily-python) (2.32.4)\n",
            "Requirement already satisfied: tiktoken>=0.5.1 in /usr/local/lib/python3.12/dist-packages (from tavily-python) (0.11.0)\n",
            "Requirement already satisfied: httpx in /usr/local/lib/python3.12/dist-packages (from tavily-python) (0.28.1)\n",
            "Requirement already satisfied: regex>=2022.1.18 in /usr/local/lib/python3.12/dist-packages (from tiktoken>=0.5.1->tavily-python) (2024.11.6)\n",
            "Requirement already satisfied: charset_normalizer<4,>=2 in /usr/local/lib/python3.12/dist-packages (from requests->tavily-python) (3.4.3)\n",
            "Requirement already satisfied: idna<4,>=2.5 in /usr/local/lib/python3.12/dist-packages (from requests->tavily-python) (3.10)\n",
            "Requirement already satisfied: urllib3<3,>=1.21.1 in /usr/local/lib/python3.12/dist-packages (from requests->tavily-python) (2.5.0)\n",
            "Requirement already satisfied: certifi>=2017.4.17 in /usr/local/lib/python3.12/dist-packages (from requests->tavily-python) (2025.8.3)\n",
            "Requirement already satisfied: anyio in /usr/local/lib/python3.12/dist-packages (from httpx->tavily-python) (4.10.0)\n",
            "Requirement already satisfied: httpcore==1.* in /usr/local/lib/python3.12/dist-packages (from httpx->tavily-python) (1.0.9)\n",
            "Requirement already satisfied: h11>=0.16 in /usr/local/lib/python3.12/dist-packages (from httpcore==1.*->httpx->tavily-python) (0.16.0)\n",
            "Requirement already satisfied: sniffio>=1.1 in /usr/local/lib/python3.12/dist-packages (from anyio->httpx->tavily-python) (1.3.1)\n",
            "Requirement already satisfied: typing_extensions>=4.5 in /usr/local/lib/python3.12/dist-packages (from anyio->httpx->tavily-python) (4.15.0)\n",
            "Downloading tavily_python-0.7.12-py3-none-any.whl (15 kB)\n",
            "Installing collected packages: tavily-python\n",
            "Successfully installed tavily-python-0.7.12\n"
          ]
        }
      ],
      "source": []
    },
    {
      "cell_type": "code",
      "execution_count": null,
      "metadata": {
        "id": "Rc4z1_W_6cGH"
      },
      "outputs": [],
      "source": [
        "import os"
      ]
    },
    {
      "cell_type": "code",
      "execution_count": null,
      "metadata": {
        "id": "pqbd2Hzm6jAn"
      },
      "outputs": [],
      "source": [
        " os.environ['TAVILY_API_KEY'] = \"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\""
      ]
    },
    {
      "cell_type": "code",
      "execution_count": null,
      "metadata": {
        "colab": {
          "background_save": true,
          "base_uri": "https://localhost:8080/"
        },
        "id": "TRG3_mL9f9Tz",
        "outputId": "1b270c58-f9fc-42e0-db67-c426c75938c7"
      },
      "outputs": [
        {
          "name": "stdout",
          "output_type": "stream",
          "text": [
            "Ask a medical question (or type 'exit' to quit): What are the symptom of Diabets?\n",
            "[{'url': 'https://www.who.int/news-room/fact-sheets/detail/diabetes', 'title': 'Diabetes - World Health Organization (WHO)', 'content': 'Symptoms · feeling very thirsty · needing to urinate more often than usual · blurred vision · feeling tired · losing weight unintentionally.', 'score': 0.7493996, 'raw_content': None}, {'url': 'https://www.webmd.com/diabetes/understanding-diabetes-symptoms', 'title': 'Early Signs and Symptoms of Diabetes - WebMD', 'content': \"Diabetes * Type 2 Diabetes  * Type 1 Diabetes  # Early Signs and Symptoms of Diabetes Diabetes happens when your blood sugar (blood glucose), which is your body's primary energy source, is too high. There are two types of diabetes: * Type 1 diabetes means your body doesn't make enough insulin. Type 2 Diabetes **Early symptoms of type 1 diabetes in children** **Early symptoms of type 2 diabetes in children** Diabetes often starts with mild symptoms such as feeling very hungry and tired, needing to pee a lot, being very thirsty, having a dry mouth, itchy skin, and blurry vision. * Diabetes Symptoms * Diabetes Treatment * Types of Diabetes * Diabetes Complications * Type 1 Diabetes * Type 2 Diabetes\", 'score': 0.73322314, 'raw_content': None}, {'url': 'https://www.nhs.uk/conditions/type-2-diabetes/symptoms/', 'title': \"Symptoms of type 2 diabetes and how it's diagnosed - NHS\", 'content': \"# Symptoms of type 2 diabetes and how it's diagnosed ## Symptoms of type 2 diabetes The most common symptoms of type 2 diabetes are: Some people have a higher risk of developing type 2 diabetes. Although type 2 diabetes is less common in children, ethnic background, weight, activity and family history can also increase the risk. * you or your child have a higher risk of developing type 2 diabetes Not everyone with type 2 diabetes has symptoms, so it's important to get checked out. If you're diagnosed with type 2 diabetes, it can feel overwhelming. Most people do not have symptoms of type 2 diabetes, such as peeing more, feeling tired and losing weight without trying.\", 'score': 0.68571854, 'raw_content': None}, {'url': 'https://diabetes.org/about-diabetes/warning-signs-symptoms', 'title': 'Diabetes Symptoms & Early Warning Signs', 'content': 'Change Site Language:* English (en) About Diabetes The following symptoms of diabetes are typical. However, some people with diabetes have symptoms so mild that they go unnoticed. Common symptoms of diabetes: ABOUT DIABETES About Diabetes ## Type 2 Diabetes Risk Test Find out if you are at risk for developing type 2 diabetes with our 60-second Type 2 Diabetes Risk Test. about diabetes ## Diagnosing Diabetes ABOUT DIABETES ## Diabetes Prevention Program If you are at risk for developing diabetes or have prediabetes, find a Diabetes Prevention Program near you to cut your risk in half! ABOUT DIABETES Find out if you are at risk for developing type 2 diabetes with our 60-Second Type 2 Diabetes Risk Test.', 'score': 0.58919704, 'raw_content': None}, {'url': 'https://www.mayoclinic.org/diseases-conditions/diabetes/symptoms-causes/syc-20371444', 'title': 'Diabetes - Symptoms and causes - Mayo Clinic', 'content': \"Diabetes - Symptoms and causes - Mayo Clinic Diabetes Diabetes mellitus refers to a group of diseases that affect how the body uses blood sugar (glucose). But no matter what type of diabetes you have, it can lead to excess sugar in the blood. Diabetes symptoms depend on how high your blood sugar is. The longer you have diabetes — and the less controlled your blood sugar — the higher the risk of complications. **Complications in your baby** can be caused by gestational diabetes, including: Type 1 diabetes can't be prevented. If you have prediabetes, have your blood sugar checked at least once a year to make sure you haven't developed type 2 diabetes. Diabetes care at Mayo Clinic\", 'score': 0.5654673, 'raw_content': None}]\n",
            "Ask a medical question (or type 'exit' to quit): "
          ]
        }
      ],
      "source": [
        " !python main.py"
      ]
    }
  ],
  "metadata": {
    "colab": {
      "provenance": [],
      "authorship_tag": "ABX9TyN9HVxBrXuea30djblLPDce",
      "include_colab_link": true
    },
    "kernelspec": {
      "display_name": "Python 3",
      "name": "python3"
    },
    "language_info": {
      "name": "python"
    }
  },
  "nbformat": 4,
  "nbformat_minor": 0
}