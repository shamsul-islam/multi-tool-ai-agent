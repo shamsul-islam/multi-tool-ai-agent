{
  "cells": [
    {
      "cell_type": "markdown",
      "metadata": {
        "id": "view-in-github",
        "colab_type": "text"
      },
      "source": [
        "<a href=\"https://colab.research.google.com/github/shamsul-islam/multi-tool-ai-agent/blob/main/Multi_Tool_AI_Agent_Colab.ipynb\" target=\"_parent\"><img src=\"https://colab.research.google.com/assets/colab-badge.svg\" alt=\"Open In Colab\"/></a>"
      ]
    },
    {
      "cell_type": "code",
      "execution_count": null,
      "metadata": {
        "colab": {
          "base_uri": "https://localhost:8080/"
        },
        "collapsed": true,
        "id": "H2arul0hgcT7",
        "outputId": "f6815bd1-78e0-411d-de50-da21afbc3e85"
      },
      "outputs": [
        {
          "output_type": "stream",
          "name": "stdout",
          "text": [
            "Cloning into 'multi-tool-ai-agent'...\n",
            "remote: Enumerating objects: 21, done.\u001b[K\n",
            "remote: Counting objects: 100% (21/21), done.\u001b[K\n",
            "remote: Compressing objects: 100% (20/20), done.\u001b[K\n",
            "remote: Total 21 (delta 1), reused 17 (delta 0), pack-reused 0 (from 0)\u001b[K\n",
            "Receiving objects: 100% (21/21), 139.28 KiB | 7.33 MiB/s, done.\n",
            "Resolving deltas: 100% (1/1), done.\n"
          ]
        }
      ],
      "source": [
        "!git clone https://github.com/shamsul-islam/multi-tool-ai-agent.git"
      ]
    },
    {
      "cell_type": "code",
      "source": [
        "%cd multi-tool-ai-agent"
      ],
      "metadata": {
        "colab": {
          "base_uri": "https://localhost:8080/"
        },
        "id": "pD5kFKFCLjSM",
        "outputId": "d14c0da1-f2dc-4055-a092-9af149194058"
      },
      "execution_count": null,
      "outputs": [
        {
          "output_type": "stream",
          "name": "stdout",
          "text": [
            "/content/multi-tool-ai-agent\n"
          ]
        }
      ]
    },
    {
      "cell_type": "code",
      "source": [
        "!pip install -r requirements.txt"
      ],
      "metadata": {
        "colab": {
          "base_uri": "https://localhost:8080/"
        },
        "id": "2AIMzILCLsih",
        "outputId": "0c0c0e31-acbe-428a-a4af-6f04d143ac56"
      },
      "execution_count": null,
      "outputs": [
        {
          "output_type": "stream",
          "name": "stdout",
          "text": [
            "Requirement already satisfied: pandas in /usr/local/lib/python3.12/dist-packages (from -r requirements.txt (line 1)) (2.2.2)\n",
            "Collecting tavily-python (from -r requirements.txt (line 2))\n",
            "  Downloading tavily_python-0.7.12-py3-none-any.whl.metadata (7.5 kB)\n",
            "Requirement already satisfied: numpy>=1.26.0 in /usr/local/lib/python3.12/dist-packages (from pandas->-r requirements.txt (line 1)) (2.0.2)\n",
            "Requirement already satisfied: python-dateutil>=2.8.2 in /usr/local/lib/python3.12/dist-packages (from pandas->-r requirements.txt (line 1)) (2.9.0.post0)\n",
            "Requirement already satisfied: pytz>=2020.1 in /usr/local/lib/python3.12/dist-packages (from pandas->-r requirements.txt (line 1)) (2025.2)\n",
            "Requirement already satisfied: tzdata>=2022.7 in /usr/local/lib/python3.12/dist-packages (from pandas->-r requirements.txt (line 1)) (2025.2)\n",
            "Requirement already satisfied: requests in /usr/local/lib/python3.12/dist-packages (from tavily-python->-r requirements.txt (line 2)) (2.32.4)\n",
            "Requirement already satisfied: tiktoken>=0.5.1 in /usr/local/lib/python3.12/dist-packages (from tavily-python->-r requirements.txt (line 2)) (0.11.0)\n",
            "Requirement already satisfied: httpx in /usr/local/lib/python3.12/dist-packages (from tavily-python->-r requirements.txt (line 2)) (0.28.1)\n",
            "Requirement already satisfied: six>=1.5 in /usr/local/lib/python3.12/dist-packages (from python-dateutil>=2.8.2->pandas->-r requirements.txt (line 1)) (1.17.0)\n",
            "Requirement already satisfied: regex>=2022.1.18 in /usr/local/lib/python3.12/dist-packages (from tiktoken>=0.5.1->tavily-python->-r requirements.txt (line 2)) (2024.11.6)\n",
            "Requirement already satisfied: charset_normalizer<4,>=2 in /usr/local/lib/python3.12/dist-packages (from requests->tavily-python->-r requirements.txt (line 2)) (3.4.3)\n",
            "Requirement already satisfied: idna<4,>=2.5 in /usr/local/lib/python3.12/dist-packages (from requests->tavily-python->-r requirements.txt (line 2)) (3.10)\n",
            "Requirement already satisfied: urllib3<3,>=1.21.1 in /usr/local/lib/python3.12/dist-packages (from requests->tavily-python->-r requirements.txt (line 2)) (2.5.0)\n",
            "Requirement already satisfied: certifi>=2017.4.17 in /usr/local/lib/python3.12/dist-packages (from requests->tavily-python->-r requirements.txt (line 2)) (2025.8.3)\n",
            "Requirement already satisfied: anyio in /usr/local/lib/python3.12/dist-packages (from httpx->tavily-python->-r requirements.txt (line 2)) (4.10.0)\n",
            "Requirement already satisfied: httpcore==1.* in /usr/local/lib/python3.12/dist-packages (from httpx->tavily-python->-r requirements.txt (line 2)) (1.0.9)\n",
            "Requirement already satisfied: h11>=0.16 in /usr/local/lib/python3.12/dist-packages (from httpcore==1.*->httpx->tavily-python->-r requirements.txt (line 2)) (0.16.0)\n",
            "Requirement already satisfied: sniffio>=1.1 in /usr/local/lib/python3.12/dist-packages (from anyio->httpx->tavily-python->-r requirements.txt (line 2)) (1.3.1)\n",
            "Requirement already satisfied: typing_extensions>=4.5 in /usr/local/lib/python3.12/dist-packages (from anyio->httpx->tavily-python->-r requirements.txt (line 2)) (4.15.0)\n",
            "Downloading tavily_python-0.7.12-py3-none-any.whl (15 kB)\n",
            "Installing collected packages: tavily-python\n",
            "Successfully installed tavily-python-0.7.12\n"
          ]
        }
      ]
    },
    {
      "cell_type": "code",
      "execution_count": null,
      "metadata": {
        "id": "Rc4z1_W_6cGH"
      },
      "outputs": [],
      "source": [
        "import os"
      ]
    },
    {
      "cell_type": "code",
      "execution_count": null,
      "metadata": {
        "id": "pqbd2Hzm6jAn"
      },
      "outputs": [],
      "source": [
        " #os.environ['TAVILY_API_KEY'] = \"Your-Key-here\"\n",
        " os.environ['TAVILY_API_KEY'] = \"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\""
      ]
    },
    {
      "cell_type": "code",
      "execution_count": null,
      "metadata": {
        "colab": {
          "base_uri": "https://localhost:8080/"
        },
        "id": "TRG3_mL9f9Tz",
        "outputId": "1add129a-663b-460c-c8ac-46edeb7ef436"
      },
      "outputs": [
        {
          "output_type": "stream",
          "name": "stdout",
          "text": [
            "Ask a medical question (or type 'exit' to quit): What are the symptoms of Heart Disease?\n",
            "[{'url': 'https://www.heartfoundation.org.au/blog/symptoms-of-heart-disease', 'title': 'Seven surprising symptoms of heart disease | Heart Foundation', 'content': 'Your heart * Your heart You’re probably familiar with some of the more ‘classic’ symptoms of heart disease. But did you know heart disease can also cause symptoms affecting other parts of your body? Jaw pain, or the feeling of a toothache, can be a symptom of reduced flow of blood to the heart muscle, with the pain radiating from your chest to your jaw. , including high blood pressure, atrial fibrillation, heart failure, coronary heart disease and stroke. Sleep apnoea can also indicate you might have other risk factors for heart disease, like excess ', 'score': 0.82117355, 'raw_content': None}, {'url': 'https://www.mountsinai.org/health-library/selfcare-instructions/warning-signs-and-symptoms-of-heart-disease', 'title': 'Warning signs and symptoms of heart disease - Mount Sinai', 'content': 'Warning signs and symptoms of heart disease · Chest Pain · Shortness of Breath · Coughing or Wheezing · Swelling in the Legs, Ankles, or Feet · Poor Blood', 'score': 0.78154784, 'raw_content': None}, {'url': 'https://www.nhs.uk/conditions/coronary-heart-disease/symptoms/', 'title': 'Coronary heart disease - Symptoms - NHS', 'content': '**The most common symptoms of coronary heart disease (CHD) are chest pain (angina) and breathlessness.** However, a severe angina attack can cause a painful\\xa0feeling of heaviness or tightness, usually in the centre of the chest, which may spread to the arms, neck, jaw, back or stomach. ## Heart attacks Although symptoms can vary, the discomfort or pain of a heart attack is usually like that of angina. During a heart attack, you may also have the following symptoms: The\\xa0symptoms of a heart attack can also\\xa0be similar to indigestion. Unlike angina, the symptoms of a heart attack are not usually relieved using a nitrate tablet or spray. A heart attack can sometimes happen without any symptoms. ## What to do if someone has a heart attack', 'score': 0.71948266, 'raw_content': None}, {'url': 'https://www.nhlbi.nih.gov/health/coronary-heart-disease/symptoms', 'title': 'Coronary Heart Disease - Symptoms - Nhlbi.nih.gov', 'content': '# Coronary Heart Disease Symptoms If you can’t tell whether your chest pain is a heart attack, **call 9-1-1 right away.** Sometimes coronary heart disease is \"silent,\" meaning you may not have any   symptoms   until you have a heart attack or other complication. As   plaque   builds up and narrows the coronary   arteries   , you\\'re more likely to have symptoms such as chest pain, shortness of breath, or neck pain when you exert yourself. Chest pain or discomfort that does not go away or occurs while you are resting might be a   sign   of a heart attack. ## Symptoms of a heart attack * Angina, or chest pain caused by the heart, can feel like pressure, squeezing, tightness, or burning. Women are somewhat less likely than men to experience chest pain with a heart attack.', 'score': 0.685971, 'raw_content': None}, {'url': 'https://www.bhf.org.uk/informationsupport/heart-matters-magazine/medical/signs-you-might-have-heart-disease', 'title': '10 signs you might have heart disease - British Heart Foundation', 'content': \"If it’s a heart attack, this pain may feel like heaviness, tightness or pressure in the chest. A painful or burning feeling in your chest or stomach can be a sign of a heart attack or related heart problem. However, you should call 999 for an ambulance if you start to feel hot and clammy along with chest pains, as it could be a heart attack. And if you are also experiencing other signs of a heart attack, such as chest pain or feeling sick, you must call an ambulance. However, if you suddenly start feeling sick and notice pain in your chest as well, it could be another sign that you're having a heart attack.\", 'score': 0.6180666, 'raw_content': None}]\n",
            "Ask a medical question (or type 'exit' to quit): How many heart disease patient?\n",
            "[(52, 1, 0, 125, 212, 0, 1, 168, 0, 1.0, 2, 2, 3, 0), (53, 1, 0, 140, 203, 1, 0, 155, 1, 3.1, 0, 0, 3, 0), (70, 1, 0, 145, 174, 0, 1, 125, 1, 2.6, 0, 0, 3, 0), (61, 1, 0, 148, 203, 0, 1, 161, 0, 0.0, 2, 1, 3, 0), (62, 0, 0, 138, 294, 1, 1, 106, 0, 1.9, 1, 3, 2, 0)]\n",
            "Ask a medical question (or type 'exit' to quit): Find out average of Heart disease patient?\n",
            "[(52, 1, 0, 125, 212, 0, 1, 168, 0, 1.0, 2, 2, 3, 0), (53, 1, 0, 140, 203, 1, 0, 155, 1, 3.1, 0, 0, 3, 0), (70, 1, 0, 145, 174, 0, 1, 125, 1, 2.6, 0, 0, 3, 0), (61, 1, 0, 148, 203, 0, 1, 161, 0, 0.0, 2, 1, 3, 0), (62, 0, 0, 138, 294, 1, 1, 106, 0, 1.9, 1, 3, 2, 0)]\n",
            "Ask a medical question (or type 'exit' to quit): "
          ]
        }
      ],
      "source": [
        " !python main.py"
      ]
    }
  ],
  "metadata": {
    "colab": {
      "provenance": [],
      "authorship_tag": "ABX9TyORYKSowjdjIpNx7h2WgN2E",
      "include_colab_link": true
    },
    "kernelspec": {
      "display_name": "Python 3",
      "name": "python3"
    },
    "language_info": {
      "name": "python"
    }
  },
  "nbformat": 4,
  "nbformat_minor": 0
}